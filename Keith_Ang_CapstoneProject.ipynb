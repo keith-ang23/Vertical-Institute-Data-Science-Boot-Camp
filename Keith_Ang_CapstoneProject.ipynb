{
 "cells": [
  {
   "cell_type": "markdown",
   "id": "3a14dbff",
   "metadata": {},
   "source": [
    "# Description and Problem Statement:"
   ]
  },
  {
   "cell_type": "markdown",
   "id": "f74bb3ca",
   "metadata": {},
   "source": [
    "Let's analyse how the volume of a crypto currency will affect the price of the crypto currency. In my case, SHIBA INU (ticker:SHIB)'s dataset will be used."
   ]
  },
  {
   "cell_type": "markdown",
   "id": "a1db972f",
   "metadata": {},
   "source": [
    "What is Shiba Inu?\n",
    "Shiba Inu (ticker: SHIB), also known informally as Shiba Token, is a decentralized cryptocurrency created in August 2020 by an anonymous person or persons known as \"Ryoshi\". Shiba Inu (柴犬) is a Japanese term for a breed of dog; it is the dog that is depicted in Dogecoin's symbol, which itself was originally a joke cryptocurrency based on the Doge meme. Shiba Inu was created in August 2020, dubbing itself the 'dogecoin killer'. On 13 May, Vitalik Buterin donated more than 50 trillion SHIB (worth over $1 billion at the time) to the India COVID-Crypto Relief Fund. The cryptocurrency notably surged in early October 2021. Initially up over 55% after rumors of the launch of a decentralized exchange, its value continued rising with an increase of 240% over the week."
   ]
  },
  {
   "cell_type": "code",
   "execution_count": 1,
   "id": "6f2e1445",
   "metadata": {},
   "outputs": [],
   "source": [
    "import pandas as pd\n",
    "import matplotlib.pyplot as plt\n",
    "import numpy as np\n",
    "import seaborn as sns\n",
    "\n",
    "\n",
    "from IPython.core.interactiveshell import InteractiveShell\n",
    "InteractiveShell.ast_node_interactivity = \"all\"\n"
   ]
  },
  {
   "cell_type": "markdown",
   "id": "ffaecd4d",
   "metadata": {},
   "source": [
    "# EDA:"
   ]
  },
  {
   "cell_type": "code",
   "execution_count": 2,
   "id": "8d8f8d19",
   "metadata": {},
   "outputs": [
    {
     "data": {
      "text/html": [
       "<div>\n",
       "<style scoped>\n",
       "    .dataframe tbody tr th:only-of-type {\n",
       "        vertical-align: middle;\n",
       "    }\n",
       "\n",
       "    .dataframe tbody tr th {\n",
       "        vertical-align: top;\n",
       "    }\n",
       "\n",
       "    .dataframe thead th {\n",
       "        text-align: right;\n",
       "    }\n",
       "</style>\n",
       "<table border=\"1\" class=\"dataframe\">\n",
       "  <thead>\n",
       "    <tr style=\"text-align: right;\">\n",
       "      <th></th>\n",
       "      <th>Date</th>\n",
       "      <th>Open</th>\n",
       "      <th>High</th>\n",
       "      <th>Low</th>\n",
       "      <th>Close</th>\n",
       "      <th>Adj Close</th>\n",
       "      <th>Volume</th>\n",
       "    </tr>\n",
       "  </thead>\n",
       "  <tbody>\n",
       "    <tr>\n",
       "      <th>0</th>\n",
       "      <td>2021-05-19</td>\n",
       "      <td>0.000016</td>\n",
       "      <td>0.000016</td>\n",
       "      <td>0.000006</td>\n",
       "      <td>0.000009</td>\n",
       "      <td>0.000009</td>\n",
       "      <td>3271067996</td>\n",
       "    </tr>\n",
       "    <tr>\n",
       "      <th>1</th>\n",
       "      <td>2021-05-20</td>\n",
       "      <td>0.000009</td>\n",
       "      <td>0.000012</td>\n",
       "      <td>0.000008</td>\n",
       "      <td>0.000010</td>\n",
       "      <td>0.000010</td>\n",
       "      <td>2507945867</td>\n",
       "    </tr>\n",
       "    <tr>\n",
       "      <th>2</th>\n",
       "      <td>2021-05-21</td>\n",
       "      <td>0.000010</td>\n",
       "      <td>0.000010</td>\n",
       "      <td>0.000007</td>\n",
       "      <td>0.000008</td>\n",
       "      <td>0.000008</td>\n",
       "      <td>1547207565</td>\n",
       "    </tr>\n",
       "    <tr>\n",
       "      <th>3</th>\n",
       "      <td>2021-05-22</td>\n",
       "      <td>0.000008</td>\n",
       "      <td>0.000010</td>\n",
       "      <td>0.000007</td>\n",
       "      <td>0.000008</td>\n",
       "      <td>0.000008</td>\n",
       "      <td>1229821215</td>\n",
       "    </tr>\n",
       "    <tr>\n",
       "      <th>4</th>\n",
       "      <td>2021-05-23</td>\n",
       "      <td>0.000008</td>\n",
       "      <td>0.000010</td>\n",
       "      <td>0.000007</td>\n",
       "      <td>0.000008</td>\n",
       "      <td>0.000008</td>\n",
       "      <td>1585032040</td>\n",
       "    </tr>\n",
       "  </tbody>\n",
       "</table>\n",
       "</div>"
      ],
      "text/plain": [
       "         Date      Open      High       Low     Close  Adj Close      Volume\n",
       "0  2021-05-19  0.000016  0.000016  0.000006  0.000009   0.000009  3271067996\n",
       "1  2021-05-20  0.000009  0.000012  0.000008  0.000010   0.000010  2507945867\n",
       "2  2021-05-21  0.000010  0.000010  0.000007  0.000008   0.000008  1547207565\n",
       "3  2021-05-22  0.000008  0.000010  0.000007  0.000008   0.000008  1229821215\n",
       "4  2021-05-23  0.000008  0.000010  0.000007  0.000008   0.000008  1585032040"
      ]
     },
     "execution_count": 2,
     "metadata": {},
     "output_type": "execute_result"
    }
   ],
   "source": [
    "df = pd.read_csv('D:\\\\datasets\\\\SHIB-USD.csv') \n",
    "df.head()"
   ]
  },
  {
   "cell_type": "markdown",
   "id": "d57cc866",
   "metadata": {},
   "source": [
    "The closing price is the raw price, which is just the cash value of the last transacted price before the day ends. The adjusted closing price factors in anything that might affect the crypto price after the day ends. A crypto's price is typically affected by supply and demand of market participants."
   ]
  },
  {
   "cell_type": "code",
   "execution_count": 3,
   "id": "ac98d95b",
   "metadata": {},
   "outputs": [
    {
     "name": "stdout",
     "output_type": "stream",
     "text": [
      "<class 'pandas.core.frame.DataFrame'>\n",
      "RangeIndex: 165 entries, 0 to 164\n",
      "Data columns (total 7 columns):\n",
      " #   Column     Non-Null Count  Dtype  \n",
      "---  ------     --------------  -----  \n",
      " 0   Date       165 non-null    object \n",
      " 1   Open       165 non-null    float64\n",
      " 2   High       165 non-null    float64\n",
      " 3   Low        165 non-null    float64\n",
      " 4   Close      165 non-null    float64\n",
      " 5   Adj Close  165 non-null    float64\n",
      " 6   Volume     165 non-null    int64  \n",
      "dtypes: float64(5), int64(1), object(1)\n",
      "memory usage: 9.1+ KB\n"
     ]
    },
    {
     "data": {
      "text/plain": [
       "Date         0\n",
       "Open         0\n",
       "High         0\n",
       "Low          0\n",
       "Close        0\n",
       "Adj Close    0\n",
       "Volume       0\n",
       "dtype: int64"
      ]
     },
     "execution_count": 3,
     "metadata": {},
     "output_type": "execute_result"
    }
   ],
   "source": [
    "df.info() #seeing the different dtypes to work with\n",
    "df.isnull().sum() #to check if there are any NAN values"
   ]
  },
  {
   "cell_type": "code",
   "execution_count": 4,
   "id": "93dd14c6",
   "metadata": {},
   "outputs": [
    {
     "data": {
      "text/html": [
       "<div>\n",
       "<style scoped>\n",
       "    .dataframe tbody tr th:only-of-type {\n",
       "        vertical-align: middle;\n",
       "    }\n",
       "\n",
       "    .dataframe tbody tr th {\n",
       "        vertical-align: top;\n",
       "    }\n",
       "\n",
       "    .dataframe thead th {\n",
       "        text-align: right;\n",
       "    }\n",
       "</style>\n",
       "<table border=\"1\" class=\"dataframe\">\n",
       "  <thead>\n",
       "    <tr style=\"text-align: right;\">\n",
       "      <th></th>\n",
       "      <th>Open</th>\n",
       "      <th>High</th>\n",
       "      <th>Low</th>\n",
       "      <th>Close</th>\n",
       "      <th>Adj Close</th>\n",
       "      <th>Volume</th>\n",
       "    </tr>\n",
       "  </thead>\n",
       "  <tbody>\n",
       "    <tr>\n",
       "      <th>count</th>\n",
       "      <td>165.000000</td>\n",
       "      <td>165.000000</td>\n",
       "      <td>165.000000</td>\n",
       "      <td>165.000000</td>\n",
       "      <td>165.000000</td>\n",
       "      <td>1.650000e+02</td>\n",
       "    </tr>\n",
       "    <tr>\n",
       "      <th>mean</th>\n",
       "      <td>0.000012</td>\n",
       "      <td>0.000013</td>\n",
       "      <td>0.000011</td>\n",
       "      <td>0.000012</td>\n",
       "      <td>0.000012</td>\n",
       "      <td>1.921159e+09</td>\n",
       "    </tr>\n",
       "    <tr>\n",
       "      <th>std</th>\n",
       "      <td>0.000012</td>\n",
       "      <td>0.000014</td>\n",
       "      <td>0.000010</td>\n",
       "      <td>0.000012</td>\n",
       "      <td>0.000012</td>\n",
       "      <td>4.838933e+09</td>\n",
       "    </tr>\n",
       "    <tr>\n",
       "      <th>min</th>\n",
       "      <td>0.000006</td>\n",
       "      <td>0.000006</td>\n",
       "      <td>0.000005</td>\n",
       "      <td>0.000006</td>\n",
       "      <td>0.000006</td>\n",
       "      <td>1.841112e+08</td>\n",
       "    </tr>\n",
       "    <tr>\n",
       "      <th>25%</th>\n",
       "      <td>0.000007</td>\n",
       "      <td>0.000007</td>\n",
       "      <td>0.000007</td>\n",
       "      <td>0.000007</td>\n",
       "      <td>0.000007</td>\n",
       "      <td>3.127893e+08</td>\n",
       "    </tr>\n",
       "    <tr>\n",
       "      <th>50%</th>\n",
       "      <td>0.000008</td>\n",
       "      <td>0.000008</td>\n",
       "      <td>0.000007</td>\n",
       "      <td>0.000008</td>\n",
       "      <td>0.000008</td>\n",
       "      <td>4.723039e+08</td>\n",
       "    </tr>\n",
       "    <tr>\n",
       "      <th>75%</th>\n",
       "      <td>0.000009</td>\n",
       "      <td>0.000010</td>\n",
       "      <td>0.000008</td>\n",
       "      <td>0.000009</td>\n",
       "      <td>0.000009</td>\n",
       "      <td>9.864033e+08</td>\n",
       "    </tr>\n",
       "    <tr>\n",
       "      <th>max</th>\n",
       "      <td>0.000079</td>\n",
       "      <td>0.000088</td>\n",
       "      <td>0.000068</td>\n",
       "      <td>0.000080</td>\n",
       "      <td>0.000080</td>\n",
       "      <td>3.905385e+10</td>\n",
       "    </tr>\n",
       "  </tbody>\n",
       "</table>\n",
       "</div>"
      ],
      "text/plain": [
       "             Open        High         Low       Close   Adj Close  \\\n",
       "count  165.000000  165.000000  165.000000  165.000000  165.000000   \n",
       "mean     0.000012    0.000013    0.000011    0.000012    0.000012   \n",
       "std      0.000012    0.000014    0.000010    0.000012    0.000012   \n",
       "min      0.000006    0.000006    0.000005    0.000006    0.000006   \n",
       "25%      0.000007    0.000007    0.000007    0.000007    0.000007   \n",
       "50%      0.000008    0.000008    0.000007    0.000008    0.000008   \n",
       "75%      0.000009    0.000010    0.000008    0.000009    0.000009   \n",
       "max      0.000079    0.000088    0.000068    0.000080    0.000080   \n",
       "\n",
       "             Volume  \n",
       "count  1.650000e+02  \n",
       "mean   1.921159e+09  \n",
       "std    4.838933e+09  \n",
       "min    1.841112e+08  \n",
       "25%    3.127893e+08  \n",
       "50%    4.723039e+08  \n",
       "75%    9.864033e+08  \n",
       "max    3.905385e+10  "
      ]
     },
     "execution_count": 4,
     "metadata": {},
     "output_type": "execute_result"
    }
   ],
   "source": [
    "df.describe()"
   ]
  },
  {
   "cell_type": "markdown",
   "id": "9f07816d",
   "metadata": {},
   "source": [
    "Scaling will have to be done for volume as the other values are <1"
   ]
  },
  {
   "cell_type": "code",
   "execution_count": 5,
   "id": "334f53f2",
   "metadata": {},
   "outputs": [
    {
     "data": {
      "text/plain": [
       "<Figure size 1152x576 with 0 Axes>"
      ]
     },
     "execution_count": 5,
     "metadata": {},
     "output_type": "execute_result"
    },
    {
     "data": {
      "text/plain": [
       "Text(0.5, 1.0, 'Close Price History')"
      ]
     },
     "execution_count": 5,
     "metadata": {},
     "output_type": "execute_result"
    },
    {
     "data": {
      "text/plain": [
       "[<matplotlib.lines.Line2D at 0x1b3f73d2640>]"
      ]
     },
     "execution_count": 5,
     "metadata": {},
     "output_type": "execute_result"
    },
    {
     "data": {
      "text/plain": [
       "Text(0.5, 0, 'Date')"
      ]
     },
     "execution_count": 5,
     "metadata": {},
     "output_type": "execute_result"
    },
    {
     "data": {
      "text/plain": [
       "Text(0, 0.5, 'Close Price USD')"
      ]
     },
     "execution_count": 5,
     "metadata": {},
     "output_type": "execute_result"
    },
    {
     "data": {
      "image/png": "[encoded data removed]",
      "text/plain": [
       "<Figure size 1152x576 with 1 Axes>"
      ]
     },
     "metadata": {
      "needs_background": "light"
     },
     "output_type": "display_data"
    }
   ],
   "source": [
    "#plotting the data\n",
    "plt.figure(figsize=(16,8))\n",
    "plt.title('Close Price History')\n",
    "plt.plot(df['Close'], color='red')\n",
    "plt.xlabel('Date', fontsize=18)\n",
    "plt.ylabel('Close Price USD', fontsize = 18)\n",
    "plt.show()"
   ]
  },
  {
   "cell_type": "markdown",
   "id": "f687bfaa",
   "metadata": {},
   "source": [
    "From 2021-06 to 2021-10 the price of SHIB was relatively constant however, between 2021-10 and 2021-11 there were two spikes which led to SHIB skyrocketting towards the end of 2021-11. "
   ]
  },
  {
   "cell_type": "markdown",
   "id": "469d1130",
   "metadata": {},
   "source": [
    "# Linear Regression: "
   ]
  },
  {
   "cell_type": "code",
   "execution_count": 15,
   "id": "f4495390",
   "metadata": {},
   "outputs": [],
   "source": [
    "X = df[[ 'Open', 'High', 'Low','Volume']]\n",
    "y = df['Close']"
   ]
  },
  {
   "cell_type": "code",
   "execution_count": 7,
   "id": "b2d5a029",
   "metadata": {},
   "outputs": [],
   "source": [
    "from sklearn.model_selection import train_test_split\n",
    "X_train, X_test, y_train, y_test = train_test_split(X, y,random_state=99)"
   ]
  },
  {
   "cell_type": "code",
   "execution_count": 8,
   "id": "929d0f83",
   "metadata": {},
   "outputs": [
    {
     "data": {
      "text/plain": [
       "StandardScaler()"
      ]
     },
     "execution_count": 8,
     "metadata": {},
     "output_type": "execute_result"
    }
   ],
   "source": [
    "from sklearn.preprocessing import StandardScaler\n",
    "\n",
    "df = pd.read_csv('D:\\\\datasets\\\\SHIB-USD.csv') \n",
    "\n",
    "ss = StandardScaler() # initialize transformer \n",
    "\n",
    "ss.fit(df[['Volume']])\n",
    "df[['Volume']] = ss.transform(df[['Volume']]) # remember to assign back to update\n",
    "\n",
    "X = df[[ 'Open', 'High', 'Low','Volume']] #Updating the stadardized Volume\n",
    "y = df['Close']"
   ]
  },
  {
   "cell_type": "code",
   "execution_count": 9,
   "id": "9d2f352a",
   "metadata": {},
   "outputs": [
    {
     "name": "stdout",
     "output_type": "stream",
     "text": [
      "MSE: 7.892651079589878e-13\n",
      "R-squared: 0.9948788887083522\n",
      "Adjusted R-squared: 0.994750860926061\n",
      "Coefficients:  [-6.21962742e-01  1.10081969e+00  5.43991717e-01 -1.48246045e-06]\n",
      "Intercept:  -9.386829298901429e-07\n"
     ]
    },
    {
     "data": {
      "text/plain": [
       "(array([-6.21962742e-01,  1.10081969e+00,  5.43991717e-01, -1.48246045e-06]),\n",
       " -9.386829298901429e-07)"
      ]
     },
     "execution_count": 9,
     "metadata": {},
     "output_type": "execute_result"
    },
    {
     "data": {
      "image/png": "[encoded data removed]",
      "text/plain": [
       "<Figure size 720x576 with 1 Axes>"
      ]
     },
     "metadata": {
      "needs_background": "light"
     },
     "output_type": "display_data"
    }
   ],
   "source": [
    "from sklearn.metrics import mean_squared_error  # import\n",
    "from sklearn.metrics import r2_score\n",
    "from sklearn.linear_model import LinearRegression \n",
    "\n",
    "def train_predict(X,y):\n",
    "    lm = LinearRegression()\n",
    "    lm.fit(X, y)\n",
    "    predictions = lm.predict(X)\n",
    "    # Plot our predictions\n",
    "    plt.figure(figsize=(10,8))\n",
    "    plt.scatter(predictions, y, s=30, c='r', marker='+')\n",
    "    plt.xlabel(f\"Predicted Close from {X.columns.values}\")\n",
    "    plt.ylabel(\"Actual Close\")\n",
    "    \n",
    "    mse = mean_squared_error(y, predictions)\n",
    "    r2 = r2_score(y, predictions)\n",
    "    adj_r2 = 1 - (len(y)-1)/(len(y)-len(X.columns)-1)*(1 - r2)\n",
    "    \n",
    "    print(\"MSE:\", mse)\n",
    "    print(\"R-squared:\", r2)\n",
    "    print(\"Adjusted R-squared:\", adj_r2)\n",
    "\n",
    "    \n",
    "    print(\"Coefficients: \",lm.coef_)\n",
    "    print(\"Intercept: \",lm.intercept_)\n",
    "    \n",
    "    return lm.coef_,lm.intercept_\n",
    "\n",
    "train_predict(X,y)\n",
    "\n"
   ]
  },
  {
   "cell_type": "markdown",
   "id": "0b7e6a6f",
   "metadata": {},
   "source": [
    "From MSE and Adjusted R-squared, it can be concluded that there the prediction model might be ablet to successfully predict the close price as the MSE is very low which means it is accurate and the Adjusted R-squared is very close to 1 which means that it has a strong positive corelation between the predicted and actual close price."
   ]
  },
  {
   "cell_type": "code",
   "execution_count": 10,
   "id": "49f0037c",
   "metadata": {},
   "outputs": [
    {
     "data": {
      "text/plain": [
       "<AxesSubplot:xlabel='Open', ylabel='Close'>"
      ]
     },
     "execution_count": 10,
     "metadata": {},
     "output_type": "execute_result"
    },
    {
     "data": {
      "image/png": "[encoded data removed]",
      "text/plain": [
       "<Figure size 432x288 with 1 Axes>"
      ]
     },
     "metadata": {
      "needs_background": "light"
     },
     "output_type": "display_data"
    },
    {
     "data": {
      "text/plain": [
       "<AxesSubplot:xlabel='High', ylabel='Close'>"
      ]
     },
     "execution_count": 10,
     "metadata": {},
     "output_type": "execute_result"
    },
    {
     "data": {
      "image/png": "[encoded data removed]",
      "text/plain": [
       "<Figure size 432x288 with 1 Axes>"
      ]
     },
     "metadata": {
      "needs_background": "light"
     },
     "output_type": "display_data"
    },
    {
     "data": {
      "text/plain": [
       "<AxesSubplot:xlabel='Low', ylabel='Close'>"
      ]
     },
     "execution_count": 10,
     "metadata": {},
     "output_type": "execute_result"
    },
    {
     "data": {
      "image/png": "[encoded data removed]",
      "text/plain": [
       "<Figure size 432x288 with 1 Axes>"
      ]
     },
     "metadata": {
      "needs_background": "light"
     },
     "output_type": "display_data"
    },
    {
     "data": {
      "text/plain": [
       "<AxesSubplot:xlabel='Volume', ylabel='Close'>"
      ]
     },
     "execution_count": 10,
     "metadata": {},
     "output_type": "execute_result"
    },
    {
     "data": {
      "image/png": "[encoded data removed]",
      "text/plain": [
       "<Figure size 432x288 with 1 Axes>"
      ]
     },
     "metadata": {
      "needs_background": "light"
     },
     "output_type": "display_data"
    }
   ],
   "source": [
    "#plotting seversl graphs to see the impact of each factor on close price\n",
    "sns.scatterplot(x='Open',y='Close',data=df)\n",
    "plt.show()\n",
    "sns.scatterplot(x='High',y='Close',data=df)\n",
    "plt.show()\n",
    "sns.scatterplot(x='Low',y='Close',data=df)\n",
    "plt.show()\n",
    "sns.scatterplot(x='Volume',y='Close',data=df)\n",
    "plt.show()"
   ]
  },
  {
   "cell_type": "markdown",
   "id": "d02967b5",
   "metadata": {},
   "source": [
    "However, as seen from the scatter plots, volume does not have much corelation with the closing price of the coin. Thus, I would do another analysis without the volume to see how the prediction scores."
   ]
  },
  {
   "cell_type": "code",
   "execution_count": 11,
   "id": "ca363d1b",
   "metadata": {},
   "outputs": [],
   "source": [
    "#analysing without volume\n",
    "X = df[[ 'Open', 'High', 'Low']]\n",
    "y = df['Close']"
   ]
  },
  {
   "cell_type": "code",
   "execution_count": 12,
   "id": "f1b7efa5",
   "metadata": {},
   "outputs": [
    {
     "name": "stdout",
     "output_type": "stream",
     "text": [
      "MSE: 9.035241026297176e-13\n",
      "R-squared: 0.9941375243405622\n",
      "Adjusted R-squared: 0.9940282856636783\n",
      "Coefficients:  [-0.58265318  0.79390139  0.79908094]\n",
      "Intercept:  -1.8175975537091098e-07\n"
     ]
    },
    {
     "data": {
      "text/plain": [
       "(array([-0.58265318,  0.79390139,  0.79908094]), -1.8175975537091098e-07)"
      ]
     },
     "execution_count": 12,
     "metadata": {},
     "output_type": "execute_result"
    },
    {
     "data": {
      "image/png": "[encoded data removed]",
      "text/plain": [
       "<Figure size 720x576 with 1 Axes>"
      ]
     },
     "metadata": {
      "needs_background": "light"
     },
     "output_type": "display_data"
    }
   ],
   "source": [
    "from sklearn.metrics import mean_squared_error  # import\n",
    "from sklearn.metrics import r2_score\n",
    "from sklearn.linear_model import LinearRegression \n",
    "\n",
    "def train_predict(X,y):\n",
    "    lm = LinearRegression()\n",
    "    lm.fit(X, y)\n",
    "    predictions = lm.predict(X)\n",
    "    # Plot our predictions\n",
    "    plt.figure(figsize=(10,8))\n",
    "    plt.scatter(predictions, y, s=30, c='r', marker='+')\n",
    "    plt.xlabel(f\"Predicted Close from {X.columns.values}\")\n",
    "    plt.ylabel(\"Actual Close\")\n",
    "    \n",
    "    mse = mean_squared_error(y, predictions)\n",
    "    r2 = r2_score(y, predictions)\n",
    "    adj_r2 = 1 - (len(y)-1)/(len(y)-len(X.columns)-1)*(1 - r2)\n",
    "    \n",
    "    print(\"MSE:\", mse)\n",
    "    print(\"R-squared:\", r2)\n",
    "    print(\"Adjusted R-squared:\", adj_r2)\n",
    "\n",
    "    \n",
    "    print(\"Coefficients: \",lm.coef_)\n",
    "    print(\"Intercept: \",lm.intercept_)\n",
    "    \n",
    "    return lm.coef_,lm.intercept_\n",
    "\n",
    "train_predict(X,y)\n"
   ]
  },
  {
   "cell_type": "markdown",
   "id": "2c06f756",
   "metadata": {},
   "source": [
    "    MSE: 9.035241026297176e-13 (without volume)\n",
    "    MSE: 7.892651079589878e-13\n",
    "\n",
    "\n",
    "    Adjusted R-squared: 0.9940282856636783 (without volume)\n",
    "    Adjusted R-squared: 0.994750860926061\n",
    "\n",
    "The anaylsis without volume shows that the MSE and Adjusted R-squared are lower compared to the analysis with volume. This means that the claim where the volume will not affect the analysis is false. Instead it gives a more accurate and stronger positive corelation between predicted and actual close price when the data for volume is used."
   ]
  },
  {
   "cell_type": "markdown",
   "id": "e8250c69",
   "metadata": {},
   "source": [
    "# Conclusion:"
   ]
  },
  {
   "cell_type": "markdown",
   "id": "6206ebf5",
   "metadata": {},
   "source": [
    "The volume of a cyrpto coin will affect the price of the crypto coin however, the volume is more influenced by the demand and supply, rumours. Particularly for SHIB, its price will be affected by tweets from Elon Musk, CEO of TESLA which is difficult to analyse as we would never know when Musk will do anything to affect the price of SHIB drastically as the community nevertheless buys SHIB anytime Musk mentions the breed."
   ]
  },
  {
   "cell_type": "markdown",
   "id": "4c6cc3a8",
   "metadata": {},
   "source": [
    "# Limitations and Improvements:"
   ]
  },
  {
   "cell_type": "markdown",
   "id": "3b364b6d",
   "metadata": {},
   "source": [
    "I could analyze other cryptos and do some cross referencing since the crypto market is highly interconnected and generating new featuressuch as:\n",
    "    \n",
    "    -Realized Volatility\n",
    "    -Moving Average\n",
    "    -Cumulative Returns of Price\n",
    "    -Average True Range Calculation\n",
    "    -Volume Weighted Average Price\n",
    "        -VWAP\n",
    "        -Trend Strength of the VWAP\n",
    "       -VWAP Returns\n",
    "    -Exponentially Weighted Moving Average\n",
    "    -Momentum\n",
    "    -Rate of Change\n",
    "    -Relative Strength Index\n",
    "    -Stochastic Oscillators\n",
    "    -Linear Regression Slope\n",
    "    -Log of Return\n",
    "    -Log Transformation"
   ]
  },
  {
   "cell_type": "code",
   "execution_count": null,
   "id": "b5c20ef0",
   "metadata": {},
   "outputs": [],
   "source": []
  }
 ],
 "metadata": {
  "kernelspec": {
   "display_name": "Python 3 (ipykernel)",
   "language": "python",
   "name": "python3"
  },
  "language_info": {
   "codemirror_mode": {
    "name": "ipython",
    "version": 3
   },
   "file_extension": ".py",
   "mimetype": "text/x-python",
   "name": "python",
   "nbconvert_exporter": "python",
   "pygments_lexer": "ipython3",
   "version": "3.9.13"
  }
 },
 "nbformat": 4,
 "nbformat_minor": 5
}
